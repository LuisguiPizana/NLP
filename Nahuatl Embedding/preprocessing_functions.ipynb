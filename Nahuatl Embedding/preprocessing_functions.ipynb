{
 "cells": [
  {
   "cell_type": "code",
   "execution_count": 1,
   "metadata": {},
   "outputs": [],
   "source": [
    "import time\n",
    "\n",
    "from keras.models import Sequential\n",
    "from keras.layers import Dense\n",
    "\n",
    "import numpy as np\n",
    "import tensorflow as tf\n",
    "\n",
    "from tensorflow.keras.preprocessing.text import Tokenizer\n",
    "\n",
    "#Counts number of repetitions of elements in a list\n",
    "from collections import Counter\n",
    "\n",
    "from sklearn.model_selection import train_test_split\n",
    "\n",
    "import matplotlib.pyplot as plt\n",
    "\n",
    "#Imports utils. A customed module. "
   ]
  },
  {
   "cell_type": "code",
   "execution_count": null,
   "metadata": {},
   "outputs": [],
   "source": []
  },
  {
   "attachments": {},
   "cell_type": "markdown",
   "metadata": {},
   "source": [
    "#### Download the data from url as zip and store it and load it. If it is already downloaded then just load it. "
   ]
  },
  {
   "cell_type": "code",
   "execution_count": 2,
   "metadata": {},
   "outputs": [],
   "source": [
    "from urllib.request import urlretrieve\n",
    "from os.path import isfile, isdir\n",
    "from tqdm import tqdm\n",
    "import zipfile\n",
    "\n",
    "dataset_folder_path = 'data'\n",
    "dataset_filename = 'text8.zip'\n",
    "dataset_name = 'Text8 Dataset'\n",
    "\n",
    "class DLProgress(tqdm):\n",
    "    last_block = 0\n",
    "\n",
    "    def hook(self, block_num=1, block_size=1, total_size=None):\n",
    "        self.total = total_size\n",
    "        self.update((block_num - self.last_block) * block_size)\n",
    "        self.last_block = block_num\n",
    "\n",
    "def download_and_read_text():\n",
    "\n",
    "    if not isfile(dataset_filename):\n",
    "        with DLProgress(unit='B', unit_scale=True, miniters=1, desc=dataset_name) as pbar:\n",
    "            urlretrieve(\n",
    "                'http://mattmahoney.net/dc/text8.zip',\n",
    "                dataset_filename,\n",
    "                pbar.hook)\n",
    "\n",
    "    if not isdir(dataset_folder_path):\n",
    "        with zipfile.ZipFile(dataset_filename) as zip_ref:\n",
    "            zip_ref.extractall(dataset_folder_path)\n",
    "            \n",
    "    with open('data/text8') as f:\n",
    "        text = f.read()\n",
    "\n",
    "\n",
    "    return text\n",
    "\n"
   ]
  },
  {
   "cell_type": "code",
   "execution_count": null,
   "metadata": {},
   "outputs": [],
   "source": []
  },
  {
   "cell_type": "code",
   "execution_count": 3,
   "metadata": {},
   "outputs": [],
   "source": [
    "def fit_tokenizer(cleaned_text_list, oov_token = '<OOV>', num_words = None):\n",
    "    #This function is just to eliminate the training of the Tokenizer object. Big drawbacks\n",
    "    #we cannot change hyperparams.\n",
    "\n",
    "    tokenizer = Tokenizer(oov_token = oov_token, num_words = num_words)\n",
    "    tokenizer.fit_on_texts(cleaned_text_list)\n",
    "\n",
    "    return tokenizer"
   ]
  },
  {
   "attachments": {},
   "cell_type": "markdown",
   "metadata": {},
   "source": [
    "#### SkipGram word pairing functions."
   ]
  },
  {
   "cell_type": "code",
   "execution_count": 4,
   "metadata": {},
   "outputs": [],
   "source": [
    "def skipgram_single_word_pair(text_list, index, window_size = 5):\n",
    "    \n",
    "    num_words = len(text_list)\n",
    "\n",
    "    rand_window = np.random.randint(1, window_size +1)\n",
    "\n",
    "    start_index = (index - rand_window) if (index - rand_window) > 0 else 0 \n",
    "\n",
    "    end_index = (index + rand_window) if (index + rand_window) < num_words else num_words - 1\n",
    "\n",
    "    word_list = set(text_list[start_index : index] + text_list[index + 1 : end_index])\n",
    "    \n",
    "    pairs = [(text_list[index], word) for word in word_list]\n",
    "\n",
    "    return pairs"
   ]
  },
  {
   "cell_type": "code",
   "execution_count": 5,
   "metadata": {},
   "outputs": [],
   "source": [
    "def cbow_single_word_pair(text_list, index, window_size = 5):\n",
    "    \n",
    "    num_words = len(text_list)\n",
    "\n",
    "    rand_window = np.random.randint(1, window_size +1)\n",
    "\n",
    "    start_index = (index - rand_window) if (index - rand_window) > 0 else 0 \n",
    "\n",
    "    end_index = (index + rand_window) if (index + rand_window) < num_words else num_words - 1\n",
    "\n",
    "    word_list = set(text_list[start_index : index] + text_list[index + 1 : end_index])\n",
    "    \n",
    "    pairs = [(word, text_list[index]) for word in word_list]\n",
    "\n",
    "    return pairs"
   ]
  },
  {
   "attachments": {},
   "cell_type": "markdown",
   "metadata": {},
   "source": [
    "The following function would be better as a generator to help save space. Further adjustments. "
   ]
  },
  {
   "cell_type": "code",
   "execution_count": 6,
   "metadata": {},
   "outputs": [],
   "source": [
    "def word_pair_texts(text_list, single_pairing_function, window_size = 5):\n",
    "\n",
    "    word_pairs = []\n",
    "\n",
    "    for word_index in tqdm(range(len(text_list))):\n",
    "\n",
    "        word_pairs += single_pairing_function(text_list, word_index, window_size = window_size)\n",
    "\n",
    "    word_pairs = np.array(word_pairs)\n",
    "\n",
    "    return word_pairs"
   ]
  },
  {
   "attachments": {},
   "cell_type": "markdown",
   "metadata": {},
   "source": [
    "#### Graphing"
   ]
  },
  {
   "cell_type": "code",
   "execution_count": 7,
   "metadata": {},
   "outputs": [],
   "source": [
    "def graph_errors(training_history):\n",
    "    \n",
    "    acc = training_history.history['accuracy']\n",
    "    val_loss = training_history.history['val_loss']\n",
    "    val_acc = training_history.history['val_accuracy']\n",
    "    loss = training_history.history['loss']\n",
    "\n",
    "    epochs = range(len(acc))\n",
    "\n",
    "    plt.plot(epochs, acc, 'b', label='Training accuracy')\n",
    "    plt.plot(epochs, val_acc, 'r', label = 'Validation accuracy')\n",
    "    plt.title('Training accuracy')\n",
    "    plt.legend()\n",
    "    plt.figure()\n",
    "\n",
    "    plt.plot(epochs, loss, 'b', label='Training Loss')\n",
    "    plt.plot(epochs, val_loss, 'r', label = 'Validation Loss')\n",
    "    plt.title('Loss')\n",
    "    plt.legend()\n",
    "\n",
    "    plt.show()"
   ]
  },
  {
   "attachments": {},
   "cell_type": "markdown",
   "metadata": {},
   "source": [
    "This has has to have a better approach with the object. The idea is just to define the structure. "
   ]
  },
  {
   "attachments": {},
   "cell_type": "markdown",
   "metadata": {},
   "source": [
    "#### Model classes."
   ]
  },
  {
   "attachments": {},
   "cell_type": "markdown",
   "metadata": {},
   "source": [
    "This could be generalized to a single model type function and then just change the incoming data. "
   ]
  },
  {
   "cell_type": "code",
   "execution_count": 27,
   "metadata": {},
   "outputs": [],
   "source": [
    "class SkipGram(Sequential):\n",
    "\n",
    "    def __init__(self, input_shape, num_classes, embedding_dims):\n",
    "        super().__init__()\n",
    "        self.add(Dense(embedding_dims, activation = 'linear', input_shape = input_shape))\n",
    "        self.add(Dense(num_classes, activation = 'softmax', name = 'output_layer'))\n",
    "\n",
    "        self.preprocessing_function = skipgram_single_word_pair\n",
    "\n",
    "    def word_pair_texts(self, text_list, window_size = 5):\n",
    "\n",
    "        word_pairs = []\n",
    "\n",
    "        for word_index in tqdm(range(len(text_list))):\n",
    "\n",
    "            word_pairs += self.preprocessing_function(text_list, word_index, window_size = window_size)\n",
    "\n",
    "        word_pairs = np.array(word_pairs)\n",
    "\n",
    "\n",
    "\n",
    "        return word_pairs\n",
    "\n",
    "\n",
    "class CBOW(Sequential):\n",
    "\n",
    "    def __init__(self, input_shape, num_classes, embedding_dims):\n",
    "        super().__init__()\n",
    "        self.add(Dense(embedding_dims, activation = 'linear', input_shape = input_shape))\n",
    "        self.add(Dense(num_classes, activation = 'softmax', name = 'output_layer'))\n",
    "\n",
    "\n",
    "\n",
    "    \n",
    "\n",
    "class MyTokenizer(Tokenizer):\n",
    "\n",
    "    def __init__(self, num_words = None):\n",
    "        super().__init__(num_words = num_words)\n",
    "\n",
    "    def clean_text(self, text_string, min_num_appearances = 5):\n",
    "    # Replace punctuation with tokens so we can use them in our model\n",
    "        text = text_string.lower()\n",
    "        text = text.replace('.', ' <PERIOD> ')\n",
    "        text = text.replace(',', ' <COMMA> ')\n",
    "        text = text.replace('\"', ' <QUOTATION_MARK> ')\n",
    "        text = text.replace(';', ' <SEMICOLON> ')\n",
    "        text = text.replace('!', ' <EXCLAMATION_MARK> ')\n",
    "        text = text.replace('?', ' <QUESTION_MARK> ')\n",
    "        text = text.replace('(', ' <LEFT_PAREN> ')\n",
    "        text = text.replace(')', ' <RIGHT_PAREN> ')\n",
    "        text = text.replace('--', ' <HYPHENS> ')\n",
    "        text = text.replace('?', ' <QUESTION_MARK> ')\n",
    "        # text = text.replace('\\n', ' <NEW_LINE> ')\n",
    "        text = text.replace(':', ' <COLON> ')\n",
    "        words = text.split()\n",
    "        \n",
    "        # Remove all words with  5 or fewer occurences\n",
    "        word_counts = Counter(words)\n",
    "        \n",
    "        trimmed_words = [word for word in tqdm(words) if word_counts[word] > min_num_appearances]\n",
    "\n",
    "        return trimmed_words\n",
    "    \n",
    "\n",
    "\n",
    "    def skipgram_word_pairing(self, text_list, window_size = 5):\n",
    "\n",
    "        word_pairs = []\n",
    "\n",
    "        for word_index in tqdm(range(len(text_list))):\n",
    "\n",
    "            word_pairs += skipgram_single_word_pair(text_list, word_index, window_size)\n",
    "\n",
    "        word_pairs = np.array(word_pairs)\n",
    "\n",
    "        return word_pairs\n",
    "\n",
    "\n",
    "    def cbow_word_pairing(self, text_list, window_size):\n",
    "\n",
    "        word_pairs = []\n",
    "\n",
    "        for word_index in tqdm(range(len(text_list))):\n",
    "\n",
    "            word_pairs += cbow_single_word_pair(text_list, word_index, window_size)\n",
    "\n",
    "        word_pairs = np.array(word_pairs)\n",
    "\n",
    "        return_word_pairs\n"
   ]
  },
  {
   "attachments": {},
   "cell_type": "markdown",
   "metadata": {},
   "source": [
    "#### Download text"
   ]
  },
  {
   "cell_type": "code",
   "execution_count": 9,
   "metadata": {},
   "outputs": [],
   "source": [
    "text = download_and_read_text()"
   ]
  },
  {
   "attachments": {},
   "cell_type": "markdown",
   "metadata": {},
   "source": [
    "## Data preprocessing"
   ]
  },
  {
   "attachments": {},
   "cell_type": "markdown",
   "metadata": {},
   "source": [
    "#### Cleaning text"
   ]
  },
  {
   "attachments": {},
   "cell_type": "markdown",
   "metadata": {},
   "source": [
    "#### Obtain word pairs"
   ]
  },
  {
   "attachments": {},
   "cell_type": "markdown",
   "metadata": {},
   "source": [
    "#### Tokenizer"
   ]
  },
  {
   "cell_type": "code",
   "execution_count": 28,
   "metadata": {},
   "outputs": [
    {
     "name": "stderr",
     "output_type": "stream",
     "text": [
      "100%|██████████| 17005207/17005207 [00:19<00:00, 857496.04it/s] \n"
     ]
    }
   ],
   "source": [
    "num_words = 1000\n",
    "\n",
    "tokenizer = MyTokenizer(num_words = num_words)\n",
    "\n",
    "cleaned_text = tokenizer.clean_text(text)\n",
    "\n",
    "cleaned_subsample = cleaned_text[:20000]\n",
    "\n",
    "fitted_tokenizer = tokenizer.fit_on_texts(cleaned_text)"
   ]
  },
  {
   "attachments": {},
   "cell_type": "markdown",
   "metadata": {},
   "source": [
    "#### Skipgram data preprocessing"
   ]
  },
  {
   "cell_type": "code",
   "execution_count": 29,
   "metadata": {},
   "outputs": [
    {
     "name": "stderr",
     "output_type": "stream",
     "text": [
      "100%|██████████| 20000/20000 [00:00<00:00, 56678.14it/s]\n",
      "100%|██████████| 20000/20000 [00:00<00:00, 50938.16it/s]\n"
     ]
    }
   ],
   "source": [
    "skipgram_word_pairs = tokenizer.skipgram_word_pairing(cleaned_subsample)\n",
    "\n"
   ]
  },
  {
   "cell_type": "code",
   "execution_count": 31,
   "metadata": {},
   "outputs": [
    {
     "data": {
      "text/plain": [
       "(96910, 2)"
      ]
     },
     "metadata": {},
     "output_type": "display_data"
    },
    {
     "data": {
      "text/plain": [
       "(97003, 2)"
      ]
     },
     "metadata": {},
     "output_type": "display_data"
    }
   ],
   "source": [
    "display(skipgram_word_pairs.shape)\n",
    "\n",
    "X_skipgram_vec = tokenizer.\n"
   ]
  },
  {
   "attachments": {},
   "cell_type": "markdown",
   "metadata": {},
   "source": [
    "#### CBOW data preprocessing"
   ]
  },
  {
   "cell_type": "code",
   "execution_count": null,
   "metadata": {},
   "outputs": [],
   "source": [
    "cbow_word_pairs = tokenizer.skipgram_word_pairing(cleaned_subsample)"
   ]
  },
  {
   "cell_type": "code",
   "execution_count": null,
   "metadata": {},
   "outputs": [],
   "source": [
    "display(cbow_word_pairs.shape)"
   ]
  },
  {
   "attachments": {},
   "cell_type": "markdown",
   "metadata": {},
   "source": [
    "Transform words to vectors."
   ]
  },
  {
   "cell_type": "code",
   "execution_count": 25,
   "metadata": {},
   "outputs": [
    {
     "ename": "NameError",
     "evalue": "name 'X' is not defined",
     "output_type": "error",
     "traceback": [
      "\u001b[1;31m---------------------------------------------------------------------------\u001b[0m",
      "\u001b[1;31mNameError\u001b[0m                                 Traceback (most recent call last)",
      "Cell \u001b[1;32mIn[25], line 1\u001b[0m\n\u001b[1;32m----> 1\u001b[0m X_vec \u001b[39m=\u001b[39m tokenizer\u001b[39m.\u001b[39mtexts_to_matrix(X)\n\u001b[0;32m      3\u001b[0m y_vec \u001b[39m=\u001b[39m tokenizer\u001b[39m.\u001b[39mtexts_to_matrix(y)\n",
      "\u001b[1;31mNameError\u001b[0m: name 'X' is not defined"
     ]
    }
   ],
   "source": [
    "X_vec = tokenizer.texts_to_matrix()\n",
    "\n",
    "y_vec = tokenizer.texts_to_matrix(y)"
   ]
  },
  {
   "cell_type": "code",
   "execution_count": 57,
   "metadata": {},
   "outputs": [
    {
     "data": {
      "text/plain": [
       "array([[0., 1., 0., ..., 0., 0., 0.],\n",
       "       [0., 1., 0., ..., 0., 0., 0.],\n",
       "       [0., 0., 0., ..., 0., 0., 0.]])"
      ]
     },
     "metadata": {},
     "output_type": "display_data"
    },
    {
     "data": {
      "text/plain": [
       "(58838, 1000)"
      ]
     },
     "metadata": {},
     "output_type": "display_data"
    }
   ],
   "source": [
    "display(X_vec[:3])\n",
    "display(X_vec.shape)"
   ]
  },
  {
   "attachments": {},
   "cell_type": "markdown",
   "metadata": {},
   "source": [
    "## Model\n"
   ]
  },
  {
   "cell_type": "code",
   "execution_count": 58,
   "metadata": {},
   "outputs": [],
   "source": [
    "num_words = fitted_tokenizer.num_words"
   ]
  },
  {
   "cell_type": "code",
   "execution_count": 59,
   "metadata": {},
   "outputs": [
    {
     "data": {
      "text/plain": [
       "1000"
      ]
     },
     "metadata": {},
     "output_type": "display_data"
    }
   ],
   "source": [
    "display(num_words)"
   ]
  },
  {
   "attachments": {},
   "cell_type": "markdown",
   "metadata": {},
   "source": [
    "#### Create model and holder."
   ]
  },
  {
   "cell_type": "code",
   "execution_count": 60,
   "metadata": {},
   "outputs": [],
   "source": [
    "skipgram = SkipGram((num_words,), num_words, 300)"
   ]
  },
  {
   "cell_type": "code",
   "execution_count": 61,
   "metadata": {},
   "outputs": [
    {
     "data": {
      "text/plain": [
       "<__main__.SkipGram at 0x1cca49406a0>"
      ]
     },
     "metadata": {},
     "output_type": "display_data"
    }
   ],
   "source": [
    "\n",
    "display(skipgram)"
   ]
  },
  {
   "cell_type": "code",
   "execution_count": 62,
   "metadata": {},
   "outputs": [],
   "source": [
    "skipgram.compile(\n",
    "    optimizer = tf.keras.optimizers.Adam(learning_rate = 1e-3),\n",
    "    loss = tf.keras.losses.CategoricalCrossentropy(),\n",
    "    metrics = ['accuracy']\n",
    ")"
   ]
  },
  {
   "cell_type": "code",
   "execution_count": 63,
   "metadata": {},
   "outputs": [
    {
     "name": "stdout",
     "output_type": "stream",
     "text": [
      "Model: \"skip_gram_3\"\n",
      "_________________________________________________________________\n",
      " Layer (type)                Output Shape              Param #   \n",
      "=================================================================\n",
      " dense_3 (Dense)             (None, 300)               300300    \n",
      "                                                                 \n",
      " output_layer (Dense)        (None, 1000)              301000    \n",
      "                                                                 \n",
      "=================================================================\n",
      "Total params: 601,300\n",
      "Trainable params: 601,300\n",
      "Non-trainable params: 0\n",
      "_________________________________________________________________\n",
      "None\n"
     ]
    }
   ],
   "source": [
    "print(skipgram.summary())"
   ]
  },
  {
   "attachments": {},
   "cell_type": "markdown",
   "metadata": {},
   "source": [
    "#### Fiting model"
   ]
  },
  {
   "cell_type": "code",
   "execution_count": 64,
   "metadata": {},
   "outputs": [
    {
     "name": "stdout",
     "output_type": "stream",
     "text": [
      "Epoch 1/10\n",
      "9414/9414 [==============================] - 210s 22ms/step - loss: 5.1181 - accuracy: 0.1960 - val_loss: 5.2818 - val_accuracy: 0.2594\n",
      "Epoch 2/10\n",
      "9414/9414 [==============================] - 198s 21ms/step - loss: 4.7356 - accuracy: 0.1969 - val_loss: 5.4825 - val_accuracy: 0.2492\n",
      "Epoch 3/10\n",
      "9414/9414 [==============================] - 192s 20ms/step - loss: 4.4937 - accuracy: 0.1957 - val_loss: 5.5716 - val_accuracy: 0.2450\n",
      "Epoch 4/10\n",
      "9414/9414 [==============================] - 200s 21ms/step - loss: 4.3472 - accuracy: 0.1937 - val_loss: 5.5557 - val_accuracy: 0.2469\n",
      "Epoch 5/10\n",
      "9414/9414 [==============================] - 132s 14ms/step - loss: 4.2692 - accuracy: 0.1909 - val_loss: 5.5992 - val_accuracy: 0.2367\n",
      "Epoch 6/10\n",
      "9414/9414 [==============================] - 124s 13ms/step - loss: 4.2329 - accuracy: 0.1897 - val_loss: 5.6073 - val_accuracy: 0.2379\n",
      "Epoch 7/10\n",
      "9414/9414 [==============================] - 121s 13ms/step - loss: 4.2146 - accuracy: 0.1890 - val_loss: 5.6995 - val_accuracy: 0.2407\n",
      "Epoch 8/10\n",
      "9414/9414 [==============================] - 123s 13ms/step - loss: 4.2053 - accuracy: 0.1894 - val_loss: 5.6657 - val_accuracy: 0.2424\n",
      "Epoch 9/10\n",
      "9414/9414 [==============================] - 125s 13ms/step - loss: 4.2035 - accuracy: 0.1876 - val_loss: 5.7110 - val_accuracy: 0.2373\n",
      "Epoch 10/10\n",
      "9414/9414 [==============================] - 115s 12ms/step - loss: 4.1989 - accuracy: 0.1884 - val_loss: 5.7497 - val_accuracy: 0.2385\n"
     ]
    }
   ],
   "source": [
    "history = skipgram.fit(X_vec, y_vec, validation_split = .2 ,epochs = 10, verbose = 1, batch_size = 5)"
   ]
  },
  {
   "attachments": {},
   "cell_type": "markdown",
   "metadata": {},
   "source": [
    "#### Updating holder with fitted_model"
   ]
  },
  {
   "cell_type": "code",
   "execution_count": 65,
   "metadata": {},
   "outputs": [
    {
     "data": {
      "image/png": "[encoded data removed]",
      "text/plain": [
       "<Figure size 640x480 with 1 Axes>"
      ]
     },
     "metadata": {},
     "output_type": "display_data"
    },
    {
     "data": {
      "image/png": "[encoded data removed]",
      "text/plain": [
       "<Figure size 640x480 with 1 Axes>"
      ]
     },
     "metadata": {},
     "output_type": "display_data"
    }
   ],
   "source": [
    "graph_errors(history)"
   ]
  },
  {
   "attachments": {},
   "cell_type": "markdown",
   "metadata": {},
   "source": [
    "## Model Evaluation"
   ]
  },
  {
   "attachments": {},
   "cell_type": "markdown",
   "metadata": {},
   "source": [
    "### We want to access the parameters of the projection layer. \n",
    " retrieve the word embeddings learned during training. The embeddings are weights of the Embedding layer in the model. The weights matrix is of shape (vocab_size, embedding_dimension)"
   ]
  },
  {
   "cell_type": "code",
   "execution_count": 66,
   "metadata": {},
   "outputs": [],
   "source": [
    "def cut_dict(n_words):\n",
    "\n",
    "    aux_dict = {}\n",
    "\n",
    "    for key, items in fitted_tokenizer.word_index.items():\n",
    "\n",
    "        if items <= n_words:\n",
    "\n",
    "            aux_dict[key] = items"
   ]
  },
  {
   "cell_type": "code",
   "execution_count": 67,
   "metadata": {},
   "outputs": [],
   "source": [
    "def write_projector_files(word_index, embedding_matrix):\n",
    "\n",
    "    out_v = open('vecs.tsv', 'w')\n",
    "    out_m = open('meta.tsv', 'w')\n",
    "    for word, i in word_index.items():\n",
    "        vec = embedding_matrix[:, i-1]\n",
    "        out_m.write(word + \"\\n\")\n",
    "        out_v.write('\\t'.join([str(x) for x in vec]) + \"\\n\")\n",
    "    out_v.close()\n",
    "    out_m.close()"
   ]
  },
  {
   "cell_type": "code",
   "execution_count": 68,
   "metadata": {},
   "outputs": [],
   "source": [
    "#word_index = fitted_tokenizer.word_index\n",
    "\n",
    "#small_word_index = cut_dict(300)"
   ]
  },
  {
   "cell_type": "code",
   "execution_count": 69,
   "metadata": {},
   "outputs": [],
   "source": [
    "#embedding_matrix = skipgram.layers[0].get_weights()[0]"
   ]
  },
  {
   "cell_type": "code",
   "execution_count": 70,
   "metadata": {},
   "outputs": [],
   "source": [
    "#write_projector_files(word_index, embedding_matrix)"
   ]
  }
 ],
 "metadata": {
  "kernelspec": {
   "display_name": "embeddings310",
   "language": "python",
   "name": "python3"
  },
  "language_info": {
   "codemirror_mode": {
    "name": "ipython",
    "version": 3
   },
   "file_extension": ".py",
   "mimetype": "text/x-python",
   "name": "python",
   "nbconvert_exporter": "python",
   "pygments_lexer": "ipython3",
   "version": "3.10.9"
  },
  "orig_nbformat": 4
 },
 "nbformat": 4,
 "nbformat_minor": 2
}
