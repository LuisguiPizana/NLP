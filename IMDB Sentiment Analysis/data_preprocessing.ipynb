{
 "cells": [
  {
   "cell_type": "code",
   "execution_count": 2,
   "metadata": {},
   "outputs": [],
   "source": [
    "import pandas as pd\n",
    "import numpy as np\n",
    "import nltk\n",
    "import re\n",
    "import tensorflow as tf\n",
    "from tensorflow.keras.preprocessing.text import Tokenizer\n",
    "from tensorflow.keras.layers import Input, LSTM, Dense, Embedding, Flatten, Conv2D, Bidirectional\n",
    "from tensorflow.keras.models import Model\n",
    "from tensorflow.keras.callbacks import EarlyStopping, ModelCheckpoint\n",
    "\n",
    "import matplotlib.pyplot as plt"
   ]
  },
  {
   "cell_type": "code",
   "execution_count": 3,
   "metadata": {},
   "outputs": [],
   "source": [
    "def clean_data(text):\n",
    "\n",
    "    sentence = text.lower()\n",
    "\n",
    "    sentence = sentence.replace('<br />', '')\n",
    "    \n",
    "    # Remove numbers, special characters and extra whitespaces\n",
    "    sentence = re.sub(r\"[^1-9A-Za-zñÑáéíóúÁÉÍÓÚüÜ']+\", ' ', sentence)\n",
    "\n",
    "    return sentence"
   ]
  },
  {
   "cell_type": "code",
   "execution_count": 4,
   "metadata": {},
   "outputs": [],
   "source": [
    "def preprocess_data(text):\n",
    "\n",
    "    text['review'] = text['review'].apply(clean_data)\n",
    "    \n",
    "    text['sentiment'] = text['sentiment'].apply(lambda x : 1 if x == 'positive' else 0)\n",
    "\n",
    "    return text['review'].values, text['sentiment'].values"
   ]
  },
  {
   "cell_type": "code",
   "execution_count": 5,
   "metadata": {},
   "outputs": [],
   "source": [
    "data_path = './IMDB_dataset.csv/IMDB_dataset.csv'\n",
    "\n",
    "reviews = pd.read_csv(data_path)"
   ]
  },
  {
   "cell_type": "code",
   "execution_count": 6,
   "metadata": {},
   "outputs": [
    {
     "data": {
      "text/html": [
       "<div>\n",
       "<style scoped>\n",
       "    .dataframe tbody tr th:only-of-type {\n",
       "        vertical-align: middle;\n",
       "    }\n",
       "\n",
       "    .dataframe tbody tr th {\n",
       "        vertical-align: top;\n",
       "    }\n",
       "\n",
       "    .dataframe thead th {\n",
       "        text-align: right;\n",
       "    }\n",
       "</style>\n",
       "<table border=\"1\" class=\"dataframe\">\n",
       "  <thead>\n",
       "    <tr style=\"text-align: right;\">\n",
       "      <th></th>\n",
       "      <th>review</th>\n",
       "      <th>sentiment</th>\n",
       "    </tr>\n",
       "  </thead>\n",
       "  <tbody>\n",
       "    <tr>\n",
       "      <th>0</th>\n",
       "      <td>One of the other reviewers has mentioned that ...</td>\n",
       "      <td>positive</td>\n",
       "    </tr>\n",
       "    <tr>\n",
       "      <th>1</th>\n",
       "      <td>A wonderful little production. &lt;br /&gt;&lt;br /&gt;The...</td>\n",
       "      <td>positive</td>\n",
       "    </tr>\n",
       "    <tr>\n",
       "      <th>2</th>\n",
       "      <td>I thought this was a wonderful way to spend ti...</td>\n",
       "      <td>positive</td>\n",
       "    </tr>\n",
       "    <tr>\n",
       "      <th>3</th>\n",
       "      <td>Basically there's a family where a little boy ...</td>\n",
       "      <td>negative</td>\n",
       "    </tr>\n",
       "    <tr>\n",
       "      <th>4</th>\n",
       "      <td>Petter Mattei's \"Love in the Time of Money\" is...</td>\n",
       "      <td>positive</td>\n",
       "    </tr>\n",
       "  </tbody>\n",
       "</table>\n",
       "</div>"
      ],
      "text/plain": [
       "                                              review sentiment\n",
       "0  One of the other reviewers has mentioned that ...  positive\n",
       "1  A wonderful little production. <br /><br />The...  positive\n",
       "2  I thought this was a wonderful way to spend ti...  positive\n",
       "3  Basically there's a family where a little boy ...  negative\n",
       "4  Petter Mattei's \"Love in the Time of Money\" is...  positive"
      ]
     },
     "metadata": {},
     "output_type": "display_data"
    }
   ],
   "source": [
    "display(reviews.head())"
   ]
  },
  {
   "cell_type": "code",
   "execution_count": 7,
   "metadata": {},
   "outputs": [],
   "source": [
    "X, y = preprocess_data(reviews)"
   ]
  },
  {
   "attachments": {},
   "cell_type": "markdown",
   "metadata": {},
   "source": [
    "Something is weird here. "
   ]
  },
  {
   "cell_type": "code",
   "execution_count": 21,
   "metadata": {},
   "outputs": [
    {
     "data": {
      "image/png": "[encoded data removed]",
      "text/plain": [
       "<Figure size 1200x600 with 1 Axes>"
      ]
     },
     "metadata": {},
     "output_type": "display_data"
    }
   ],
   "source": [
    "from collections import Counter\n",
    "\n",
    "clean_text = \" \".join(X)\n",
    "\n",
    "word_counts = Counter(clean_text.split())\n",
    "\n",
    "# Order the words by their count in descending order\n",
    "sorted_word_counts = word_counts.most_common()\n",
    "\n",
    "intervals = np.linspace(0, sorted_word_counts[0][1], 100000)\n",
    "\n",
    "_ , counts_list = zip(*sorted_word_counts)\n",
    "\n",
    "\n",
    "less_than_interval_words = [np.array(np.where(counts_list > interval, 1, 0)).sum() for interval in intervals]\n",
    "\n",
    "# Create a bar plot of word counts\n",
    "plt.figure(figsize=(12, 6))\n",
    "plt.plot(intervals, less_than_interval_words)\n",
    "plt.xlabel(\"Threshold\")\n",
    "plt.ylabel(\"Appearances\")\n",
    "plt.title(\"Word Counts in Text\")\n",
    "plt.show()\n",
    "\n"
   ]
  },
  {
   "cell_type": "code",
   "execution_count": 7,
   "metadata": {},
   "outputs": [
    {
     "data": {
      "text/plain": [
       "array([\"one of the other reviewers has mentioned that after watching just 1 oz episode you'll be hooked they are right as this is exactly what happened with me the first thing that struck me about oz was its brutality and unflinching scenes of violence which set in right from the word go trust me this is not a show for the faint hearted or timid this show pulls no punches with regards to drugs sex or violence its is hardcore in the classic use of the word it is called oz as that is the nickname given to the oswald maximum security state penitentary it focuses mainly on emerald city an experimental section of the prison where all the cells have glass fronts and face inwards so privacy is not high on the agenda em city is home to many aryans muslims gangstas latinos christians italians irish and more so scuffles death stares dodgy dealings and shady agreements are never far away i would say the main appeal of the show is due to the fact that it goes where other shows wouldn't dare forget pretty pictures painted for mainstream audiences forget charm forget romance oz doesn't mess around the first episode i ever saw struck me as so nasty it was surreal i couldn't say i was ready for it but as i watched more i developed a taste for oz and got accustomed to the high levels of graphic violence not just violence but injustice crooked guards who'll be sold out for a nickel inmates who'll kill on order and get away with it well mannered middle class inmates being turned into prison bitches due to their lack of street skills or prison experience watching oz you may become comfortable with what is uncomfortable viewing thats if you can get in touch with your darker side \",\n",
       "       \"a wonderful little production the filming technique is very unassuming very old time bbc fashion and gives a comforting and sometimes discomforting sense of realism to the entire piece the actors are extremely well chosen michael sheen not only has got all the polari but he has all the voices down pat too you can truly see the seamless editing guided by the references to williams' diary entries not only is it well worth the watching but it is a terrificly written and performed piece a masterful production about one of the great master's of comedy and his life the realism really comes home with the little things the fantasy of the guard which rather than use the traditional 'dream' techniques remains solid then disappears it plays on our knowledge and our senses particularly with the scenes concerning orton and halliwell and the sets particularly of their flat with halliwell's murals decorating every surface are terribly well done \",\n",
       "       \"i thought this was a wonderful way to spend time on a too hot summer weekend sitting in the air conditioned theater and watching a light hearted comedy the plot is simplistic but the dialogue is witty and the characters are likable even the well bread suspected serial killer while some may be disappointed when they realize this is not match point 2 risk addiction i thought it was proof that woody allen is still fully in control of the style many of us have grown to love this was the most i'd laughed at one of woody's comedies in years dare i say a decade while i've never been impressed with scarlet johanson in this she managed to tone down her sexy image and jumped right into a average but spirited young woman this may not be the crown jewel of his career but it was wittier than devil wears prada and more interesting than superman a great comedy to go see with friends \",\n",
       "       \"basically there's a family where a little boy jake thinks there's a zombie in his closet his parents are fighting all the time this movie is slower than a soap opera and suddenly jake decides to become rambo and kill the zombie ok first of all when you're going to make a film you must decide if its a thriller or a drama as a drama the movie is watchable parents are divorcing arguing like in real life and then we have jake with his closet which totally ruins all the film i expected to see a boogeyman similar movie and instead i watched a drama with some meaningless thriller spots 3 out of 1 just for the well playing parents descent dialogs as for the shots with jake just ignore them \",\n",
       "       \"petter mattei's love in the time of money is a visually stunning film to watch mr mattei offers us a vivid portrait about human relations this is a movie that seems to be telling us what money power and success do to people in the different situations we encounter this being a variation on the arthur schnitzler's play about the same theme the director transfers the action to the present time new york where all these different characters meet and connect each one is connected in one way or another to the next person but no one seems to know the previous point of contact stylishly the film has a sophisticated luxurious look we are taken to see how these people live and the world they live in their own habitat the only thing one gets out of all these souls in the picture is the different stages of loneliness each one inhabits a big city is not exactly the best place in which human relations find sincere fulfillment as one discerns is the case with most of the people we encounter the acting is good under mr mattei's direction steve buscemi rosario dawson carol kane michael imperioli adrian grenier and the rest of the talented cast make these characters come alive we wish mr mattei good luck and await anxiously for his next work \"],\n",
       "      dtype=object)"
      ]
     },
     "metadata": {},
     "output_type": "display_data"
    },
    {
     "data": {
      "text/plain": [
       "array([1, 1, 1, 0, 1], dtype=int64)"
      ]
     },
     "metadata": {},
     "output_type": "display_data"
    }
   ],
   "source": [
    "display(X[:5], y[:5])"
   ]
  },
  {
   "cell_type": "code",
   "execution_count": 8,
   "metadata": {},
   "outputs": [],
   "source": [
    "num_words = 1000\n",
    "max_sequence_length = 100\n",
    "\n",
    "tokenizer = Tokenizer(num_words = num_words, oov_token = '<OOV>')\n",
    "\n",
    "tokenizer.fit_on_texts(X)\n",
    "\n",
    "X_vecs = tokenizer.texts_to_sequences(X)\n",
    "\n",
    "\n",
    "#Padding might not be necesary in the case that we use an incidence matrix. Also note that this holds no order.\n",
    "padded_X_vecs = tf.keras.preprocessing.sequence.pad_sequences(X_vecs, maxlen = max_sequence_length, padding=\"post\")\n",
    "\n",
    "#padded_X_vecs = padded_X_vecs[:10000]\n",
    "\n",
    "#y = y[:10000]"
   ]
  },
  {
   "cell_type": "code",
   "execution_count": 15,
   "metadata": {},
   "outputs": [
    {
     "data": {
      "image/png": "[encoded data removed]",
      "text/plain": [
       "<Figure size 640x480 with 1 Axes>"
      ]
     },
     "metadata": {},
     "output_type": "display_data"
    },
    {
     "name": "stdout",
     "output_type": "stream",
     "text": [
      "75th percentile: 280.0\n",
      "90th percentile: 451.0\n",
      "95th percentile: 589.0\n",
      "99th percentile: 903.010000000002\n"
     ]
    }
   ],
   "source": [
    "\n",
    "sequence_lengths = [len(seq) for seq in X_vecs]\n",
    "\n",
    "# Plot the histogram\n",
    "plt.hist(sequence_lengths, bins=50)\n",
    "plt.xlabel(\"Sequence Length\")\n",
    "plt.ylabel(\"Frequency\")\n",
    "plt.show()\n",
    "\n",
    "# Calculate percentiles\n",
    "print(\"75th percentile:\", np.percentile(sequence_lengths, 75))\n",
    "print(\"90th percentile:\", np.percentile(sequence_lengths, 90))\n",
    "print(\"95th percentile:\", np.percentile(sequence_lengths, 95))\n",
    "print(\"99th percentile:\", np.percentile(sequence_lengths, 99))\n"
   ]
  },
  {
   "cell_type": "code",
   "execution_count": null,
   "metadata": {},
   "outputs": [],
   "source": [
    "sequence_lengths = [len(seq) for seq in X_vecs]\n",
    "\n",
    "# Plot the histogram\n",
    "plt.hist(sequence_lengths, bins=50)\n",
    "plt.xlabel(\"Sequence Length\")\n",
    "plt.ylabel(\"Frequency\")\n",
    "plt.show()\n",
    "\n",
    "# Calculate percentiles\n",
    "print(\"75th percentile:\", np.percentile(sequence_lengths, 75))\n",
    "print(\"90th percentile:\", np.percentile(sequence_lengths, 90))\n",
    "print(\"95th percentile:\", np.percentile(sequence_lengths, 95))\n",
    "print(\"99th percentile:\", np.percentile(sequence_lengths, 99))"
   ]
  },
  {
   "attachments": {},
   "cell_type": "markdown",
   "metadata": {},
   "source": [
    "### Improvement suggestions\n",
    "\n",
    "Here are some recommendations to experiment with your current model:\n",
    "\n",
    "1. Increase the num_words parameter: Using more words from the vocabulary might help capture additional information that could improve the model's performance.\n",
    "\n",
    "2. Adjust the max_sequence_length: You can experiment with different sequence lengths to see if it improves the performance. However, keep in mind that very long sequences might increase the training time and memory requirements.\n",
    "\n",
    "3. Adjust the LSTM layer size: You can experiment with different numbers of LSTM units to see if it improves the performance.\n",
    "\n",
    "4. Use Bidirectional LSTM: Wrapping your LSTM layer with a Bidirectional layer can help the model learn patterns from both forward and backward directions in the input sequence. To do this, you can use the following line in your build_classifier function:\n",
    "\n",
    "    x = Bidirectional(LSTM(64))(x)\n",
    "\n",
    "5. Use dropout: You can add dropout layers or use the dropout and recurrent_dropout parameters within the LSTM layer to regularize the model and help prevent overfitting.\n",
    "\n",
    "6. Use 1D convolution layer: Instead of a Conv2D layer, you can use a Conv1D layer followed by a GlobalMaxPooling1D or GlobalAveragePooling1D layer to capture local patterns within the input sequences. To do this, you can replace the LSTM layer with:\n",
    "\n",
    "    x = Conv1D(32, 3, activation='relu')(x)\n",
    "    x = GlobalMaxPooling1D()(x)\n",
    "\n",
    "Hyperparameter tuning: Experiment with different hyperparameters, such as learning rate, batch size, and number of training epochs.\n",
    "\n",
    "Early stopping: Use early stopping with model checkpoints to stop the training when the validation performance starts to degrade, preventing overfitting.\n",
    "\n"
   ]
  },
  {
   "cell_type": "code",
   "execution_count": 9,
   "metadata": {},
   "outputs": [],
   "source": [
    "\n",
    "def build_classifier(input_shape, num_words):\n",
    "\n",
    "    input_layer = Input(shape = input_shape)\n",
    "    x = Embedding(num_words, 150)(input_layer)\n",
    "    x = Bidirectional(LSTM(64))(x)\n",
    "    #x = Flatten()(x)\n",
    "    x = Dense(64, activation = 'relu')(x)\n",
    "    \n",
    "    output_layer = Dense(1, activation = 'sigmoid')(x)\n",
    "\n",
    "    return Model(input_layer, output_layer)\n",
    "    "
   ]
  },
  {
   "cell_type": "code",
   "execution_count": 10,
   "metadata": {},
   "outputs": [],
   "source": [
    "# Define early stopping callback\n",
    "early_stop = EarlyStopping(monitor='val_loss', patience=5, verbose=1, restore_best_weights=True)\n",
    "\n",
    "# Define model checkpoint callback to save the best model\n",
    "model_checkpoint = ModelCheckpoint('best_model.h5', monitor='val_loss', save_best_only=True, verbose=1)\n"
   ]
  },
  {
   "cell_type": "code",
   "execution_count": 11,
   "metadata": {},
   "outputs": [],
   "source": [
    "model = build_classifier((max_sequence_length,), num_words)"
   ]
  },
  {
   "cell_type": "code",
   "execution_count": 12,
   "metadata": {},
   "outputs": [
    {
     "name": "stdout",
     "output_type": "stream",
     "text": [
      "Model: \"model\"\n",
      "_________________________________________________________________\n",
      " Layer (type)                Output Shape              Param #   \n",
      "=================================================================\n",
      " input_1 (InputLayer)        [(None, 100)]             0         \n",
      "                                                                 \n",
      " embedding (Embedding)       (None, 100, 150)          150000    \n",
      "                                                                 \n",
      " bidirectional (Bidirectiona  (None, 128)              110080    \n",
      " l)                                                              \n",
      "                                                                 \n",
      " dense (Dense)               (None, 64)                8256      \n",
      "                                                                 \n",
      " dense_1 (Dense)             (None, 1)                 65        \n",
      "                                                                 \n",
      "=================================================================\n",
      "Total params: 268,401\n",
      "Trainable params: 268,401\n",
      "Non-trainable params: 0\n",
      "_________________________________________________________________\n"
     ]
    },
    {
     "data": {
      "text/plain": [
       "None"
      ]
     },
     "metadata": {},
     "output_type": "display_data"
    }
   ],
   "source": [
    "display(model.summary())"
   ]
  }
 ],
 "metadata": {
  "kernelspec": {
   "display_name": "py310",
   "language": "python",
   "name": "python3"
  },
  "language_info": {
   "codemirror_mode": {
    "name": "ipython",
    "version": 3
   },
   "file_extension": ".py",
   "mimetype": "text/x-python",
   "name": "python",
   "nbconvert_exporter": "python",
   "pygments_lexer": "ipython3",
   "version": "3.10.4"
  },
  "orig_nbformat": 4
 },
 "nbformat": 4,
 "nbformat_minor": 2
}
