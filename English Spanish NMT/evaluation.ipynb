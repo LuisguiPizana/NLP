{
 "cells": [
  {
   "cell_type": "code",
   "execution_count": null,
   "metadata": {},
   "outputs": [],
   "source": [
    "from nltk.translate.bleu_score import corpus_bleu, sentence_bleu\n",
    "import numpy as np\n",
    "import import_ipynb\n"
   ]
  },
  {
   "cell_type": "code",
   "execution_count": null,
   "metadata": {},
   "outputs": [],
   "source": [
    "def evaluate_bleu_score(model, test_data_generator):\n",
    "    predictions = []\n",
    "    references = []\n",
    "\n",
    "    for i in range(len(test_data_generator)):\n",
    "        input_batch, output_batch = test_data_generator[i]\n",
    "        predicted_batch = model.predict(input_batch)\n",
    "\n",
    "        for j in range(len(predicted_batch)):\n",
    "            predicted_indices = np.argmax(predicted_batch[j], axis=-1)\n",
    "            predicted_sentence = test_data_generator.spanish_tokenizer.sequences_to_texts([predicted_indices])[0].split()\n",
    "\n",
    "            # Remove the padding tokens\n",
    "            predicted_sentence = [token for token in predicted_sentence if token != '<PAD>']\n",
    "\n",
    "            reference_indices = np.argmax(output_batch[1][j], axis=-1)\n",
    "            reference_sentence = test_data_generator.spanish_tokenizer.sequences_to_texts([reference_indices])[0].split()\n",
    "\n",
    "            # Remove the padding tokens and the start token\n",
    "            reference_sentence = [token for token in reference_sentence if token != '<PAD>' and token != '<START>']\n",
    "\n",
    "            predictions.append(predicted_sentence)\n",
    "            references.append([reference_sentence])\n",
    "\n",
    "    bleu_score = corpus_bleu(references, predictions)\n",
    "    return bleu_score\n"
   ]
  },
  {
   "attachments": {},
   "cell_type": "markdown",
   "metadata": {},
   "source": [
    "There is an error in this part. The tokenizers must be the same that were used to train. They need to be given directly. "
   ]
  },
  {
   "cell_type": "code",
   "execution_count": null,
   "metadata": {},
   "outputs": [],
   "source": [
    "test_data_generator = MemoryDataGenerator(test_file_path, batch_size=batch_size, max_sequence_length=max_sequence_length,\n",
    "                                          max_words=max_words, tokenizer_data_percentage=tokenizer_data_percentage,\n",
    "                                          training_data_percentage=training_data_percentage)\n",
    "\n",
    "bleu_score = evaluate_bleu_score(seq2seq_attention_model, test_data_generator)\n",
    "print(f\"BLEU Score: {bleu_score:.4f}\")\n"
   ]
  }
 ],
 "metadata": {
  "language_info": {
   "name": "python"
  },
  "orig_nbformat": 4
 },
 "nbformat": 4,
 "nbformat_minor": 2
}
