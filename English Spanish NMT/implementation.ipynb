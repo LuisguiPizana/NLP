{
 "cells": [
  {
   "cell_type": "code",
   "execution_count": 6,
   "metadata": {},
   "outputs": [],
   "source": [
    "import import_ipynb\n",
    "from Seq2SeqAttentionClass import Seq2SeqAttention\n",
    "import generators as gens"
   ]
  },
  {
   "cell_type": "code",
   "execution_count": 7,
   "metadata": {},
   "outputs": [
    {
     "name": "stderr",
     "output_type": "stream",
     "text": [
      "Reservoir sampling: 100%|██████████| 5696850/5696850 [00:29<00:00, 193450.67it/s]\n",
      "Processing lines: 100%|██████████| 56968/56968 [00:00<00:00, 234418.70it/s]\n"
     ]
    }
   ],
   "source": [
    "file_path = '.\\EN-ES.txt\\EN-ES.txt'\n",
    "\n",
    "batch_size = 64\n",
    "\n",
    "max_words = 1000\n",
    "tokenizer_data_percentage = .05\n",
    "training_data_percentage = .05\n",
    "\n",
    "data_gen = gens.MemoryDataGenerator(file_path, batch_size=batch_size, max_words=max_words,\n",
    "                                     tokenizer_data_percentage = tokenizer_data_percentage,\n",
    "                                       training_data_percentage = training_data_percentage)"
   ]
  },
  {
   "cell_type": "code",
   "execution_count": 8,
   "metadata": {},
   "outputs": [],
   "source": [
    "vocab_size_source = max_words\n",
    "vocab_size_target = max_words\n",
    "embedding_dim = 150\n",
    "lstm_units = 128\n",
    "\n",
    "# Initialize the model\n",
    "model = Seq2SeqAttention(vocab_size_source, vocab_size_target, embedding_dim, lstm_units)\n",
    "\n",
    "# Compile the model\n",
    "model.compile(optimizer='adam', loss='sparse_categorical_crossentropy', metrics=['accuracy'])"
   ]
  },
  {
   "cell_type": "code",
   "execution_count": 9,
   "metadata": {},
   "outputs": [
    {
     "name": "stdout",
     "output_type": "stream",
     "text": [
      "Epoch 1/10\n",
      "1780/1780 [==============================] - 208s 107ms/step - loss: 1.2531 - accuracy: 0.7980\n",
      "Epoch 2/10\n",
      "1780/1780 [==============================] - 246s 124ms/step - loss: 0.9572 - accuracy: 0.8238\n",
      "Epoch 3/10\n",
      "1780/1780 [==============================] - 226s 118ms/step - loss: 0.8698 - accuracy: 0.8323\n",
      "Epoch 4/10\n",
      "1780/1780 [==============================] - 230s 121ms/step - loss: 0.8019 - accuracy: 0.8413\n",
      "Epoch 5/10\n",
      "1780/1780 [==============================] - 231s 121ms/step - loss: 0.7312 - accuracy: 0.8532\n",
      "Epoch 6/10\n",
      "1780/1780 [==============================] - 260s 138ms/step - loss: 0.6723 - accuracy: 0.8635\n",
      "Epoch 7/10\n",
      "1780/1780 [==============================] - 247s 129ms/step - loss: 0.6311 - accuracy: 0.8706\n",
      "Epoch 8/10\n",
      "1780/1780 [==============================] - 240s 127ms/step - loss: 0.6018 - accuracy: 0.8752\n",
      "Epoch 9/10\n",
      "1780/1780 [==============================] - 243s 128ms/step - loss: 0.5801 - accuracy: 0.8787\n",
      "Epoch 10/10\n",
      "1780/1780 [==============================] - 242s 128ms/step - loss: 0.5637 - accuracy: 0.8813\n"
     ]
    }
   ],
   "source": [
    "history = model.fit(data_gen, epochs = 15, steps_per_epoch=len(data_gen))"
   ]
  },
  {
   "cell_type": "code",
   "execution_count": 10,
   "metadata": {},
   "outputs": [
    {
     "ename": "AttributeError",
     "evalue": "module 'generators' has no attribute 'translate'",
     "output_type": "error",
     "traceback": [
      "\u001b[1;31m---------------------------------------------------------------------------\u001b[0m",
      "\u001b[1;31mAttributeError\u001b[0m                            Traceback (most recent call last)",
      "\u001b[1;32mc:\\Users\\Guillermo\\Desktop\\My_projects\\English Spanish NLP\\implementation.ipynb Cell 5\u001b[0m in \u001b[0;36m2\n\u001b[0;32m      <a href='vscode-notebook-cell:/c%3A/Users/Guillermo/Desktop/My_projects/English%20Spanish%20NLP/implementation.ipynb#X11sZmlsZQ%3D%3D?line=0'>1</a>\u001b[0m english_sentence \u001b[39m=\u001b[39m \u001b[39m\"\u001b[39m\u001b[39mWelcome to the tea party.\u001b[39m\u001b[39m\"\u001b[39m\n\u001b[1;32m----> <a href='vscode-notebook-cell:/c%3A/Users/Guillermo/Desktop/My_projects/English%20Spanish%20NLP/implementation.ipynb#X11sZmlsZQ%3D%3D?line=1'>2</a>\u001b[0m spanish_sentence \u001b[39m=\u001b[39m gens\u001b[39m.\u001b[39;49mtranslate(model, english_sentence, data_gen)\n\u001b[0;32m      <a href='vscode-notebook-cell:/c%3A/Users/Guillermo/Desktop/My_projects/English%20Spanish%20NLP/implementation.ipynb#X11sZmlsZQ%3D%3D?line=2'>3</a>\u001b[0m \u001b[39mprint\u001b[39m(\u001b[39mf\u001b[39m\u001b[39m\"\u001b[39m\u001b[39mEnglish: \u001b[39m\u001b[39m{\u001b[39;00menglish_sentence\u001b[39m}\u001b[39;00m\u001b[39m\"\u001b[39m)\n\u001b[0;32m      <a href='vscode-notebook-cell:/c%3A/Users/Guillermo/Desktop/My_projects/English%20Spanish%20NLP/implementation.ipynb#X11sZmlsZQ%3D%3D?line=3'>4</a>\u001b[0m \u001b[39mprint\u001b[39m(\u001b[39mf\u001b[39m\u001b[39m\"\u001b[39m\u001b[39mSpanish: \u001b[39m\u001b[39m{\u001b[39;00mspanish_sentence\u001b[39m}\u001b[39;00m\u001b[39m\"\u001b[39m)\n",
      "\u001b[1;31mAttributeError\u001b[0m: module 'generators' has no attribute 'translate'"
     ]
    }
   ],
   "source": [
    "english_sentence = \"Welcome to the tea party.\"\n",
    "spanish_sentence = gens.translate(model, english_sentence, data_gen)\n",
    "print(f\"English: {english_sentence}\")\n",
    "print(f\"Spanish: {spanish_sentence}\")"
   ]
  }
 ],
 "metadata": {
  "kernelspec": {
   "display_name": "py310",
   "language": "python",
   "name": "python3"
  },
  "language_info": {
   "codemirror_mode": {
    "name": "ipython",
    "version": 3
   },
   "file_extension": ".py",
   "mimetype": "text/x-python",
   "name": "python",
   "nbconvert_exporter": "python",
   "pygments_lexer": "ipython3",
   "version": "3.10.4"
  },
  "orig_nbformat": 4
 },
 "nbformat": 4,
 "nbformat_minor": 2
}
